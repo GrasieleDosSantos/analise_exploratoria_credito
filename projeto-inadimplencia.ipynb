{
 "cells": [
  {
   "cell_type": "markdown",
   "metadata": {
    "_cell_guid": "b1076dfc-b9ad-4769-8c92-a6c4dae69d19",
    "_uuid": "8f2839f25d086af736a60e9eeb907d3b93b6e0e5",
    "papermill": {
     "duration": 0.027551,
     "end_time": "2021-07-30T18:21:28.326522",
     "exception": false,
     "start_time": "2021-07-30T18:21:28.298971",
     "status": "completed"
    },
    "tags": []
   },
   "source": [
    "# **Análise Exploratória: Inadimplência** \n",
    "\n"
   ]
  },
  {
   "cell_type": "markdown",
   "metadata": {
    "papermill": {
     "duration": 0.026232,
     "end_time": "2021-07-30T18:21:28.379820",
     "exception": false,
     "start_time": "2021-07-30T18:21:28.353588",
     "status": "completed"
    },
    "tags": []
   },
   "source": [
    "# **1\\. Introdução ao problema**\n",
    "\n",
    "Estamos analisando uma base de dados de uma instituição financeira e queremos estudar as características de um cliente inadimplente, isto é, em quais circuntâncias este cliente deixa de arcar com suas dívidas quando comparados a clientes adimplentes. Nossa variável dependente será, portanto, aquela descrita pela coluna \"Default\" em que adimplentes são rotulados por '0' e inadimplentes por '1'."
   ]
  },
  {
   "cell_type": "markdown",
   "metadata": {
    "papermill": {
     "duration": 0.025969,
     "end_time": "2021-07-30T18:21:28.432329",
     "exception": false,
     "start_time": "2021-07-30T18:21:28.406360",
     "status": "completed"
    },
    "tags": []
   },
   "source": [
    "# **2\\. Carregamento e Exploração dos Dados**"
   ]
  },
  {
   "cell_type": "markdown",
   "metadata": {
    "papermill": {
     "duration": 0.026872,
     "end_time": "2021-07-30T18:21:28.485432",
     "exception": false,
     "start_time": "2021-07-30T18:21:28.458560",
     "status": "completed"
    },
    "tags": []
   },
   "source": [
    "Nesta estapa faremos o carregamento dos dados e uma análise exploratória incial com o intuito de obter mais informações a respeito de nosso dataset."
   ]
  },
  {
   "cell_type": "code",
   "execution_count": 1,
   "metadata": {
    "execution": {
     "iopub.execute_input": "2021-07-30T18:21:28.542878Z",
     "iopub.status.busy": "2021-07-30T18:21:28.541647Z",
     "iopub.status.idle": "2021-07-30T18:21:30.396991Z",
     "shell.execute_reply": "2021-07-30T18:21:30.397565Z",
     "shell.execute_reply.started": "2021-07-30T17:34:22.284267Z"
    },
    "papermill": {
     "duration": 1.886177,
     "end_time": "2021-07-30T18:21:30.397891",
     "exception": false,
     "start_time": "2021-07-30T18:21:28.511714",
     "status": "completed"
    },
    "tags": []
   },
   "outputs": [],
   "source": [
    "#importação de pacotes\n",
    "\n",
    "import pandas as pd\n",
    "import matplotlib.pyplot as plt\n",
    "import seaborn as sns\n",
    "\n",
    "\n",
    "#carregamento dos dados\n",
    "\n",
    "df = pd.read_csv(\"https://raw.githubusercontent.com/andre-marcos-perez/ebac-course-utils/develop/dataset/credito.csv\", na_values = 'na')\n",
    "\n"
   ]
  },
  {
   "cell_type": "code",
   "execution_count": 2,
   "metadata": {
    "execution": {
     "iopub.execute_input": "2021-07-30T18:21:30.455114Z",
     "iopub.status.busy": "2021-07-30T18:21:30.454453Z",
     "iopub.status.idle": "2021-07-30T18:21:30.485259Z",
     "shell.execute_reply": "2021-07-30T18:21:30.485796Z",
     "shell.execute_reply.started": "2021-07-30T17:34:23.814373Z"
    },
    "papermill": {
     "duration": 0.061347,
     "end_time": "2021-07-30T18:21:30.485982",
     "exception": false,
     "start_time": "2021-07-30T18:21:30.424635",
     "status": "completed"
    },
    "tags": []
   },
   "outputs": [
    {
     "data": {
      "text/html": [
       "<div>\n",
       "<style scoped>\n",
       "    .dataframe tbody tr th:only-of-type {\n",
       "        vertical-align: middle;\n",
       "    }\n",
       "\n",
       "    .dataframe tbody tr th {\n",
       "        vertical-align: top;\n",
       "    }\n",
       "\n",
       "    .dataframe thead th {\n",
       "        text-align: right;\n",
       "    }\n",
       "</style>\n",
       "<table border=\"1\" class=\"dataframe\">\n",
       "  <thead>\n",
       "    <tr style=\"text-align: right;\">\n",
       "      <th></th>\n",
       "      <th>id</th>\n",
       "      <th>default</th>\n",
       "      <th>idade</th>\n",
       "      <th>sexo</th>\n",
       "      <th>dependentes</th>\n",
       "      <th>escolaridade</th>\n",
       "      <th>estado_civil</th>\n",
       "      <th>salario_anual</th>\n",
       "      <th>tipo_cartao</th>\n",
       "      <th>meses_de_relacionamento</th>\n",
       "      <th>qtd_produtos</th>\n",
       "      <th>iteracoes_12m</th>\n",
       "      <th>meses_inativo_12m</th>\n",
       "      <th>limite_credito</th>\n",
       "      <th>valor_transacoes_12m</th>\n",
       "      <th>qtd_transacoes_12m</th>\n",
       "    </tr>\n",
       "  </thead>\n",
       "  <tbody>\n",
       "    <tr>\n",
       "      <th>0</th>\n",
       "      <td>768805383</td>\n",
       "      <td>0</td>\n",
       "      <td>45</td>\n",
       "      <td>M</td>\n",
       "      <td>3</td>\n",
       "      <td>ensino medio</td>\n",
       "      <td>casado</td>\n",
       "      <td>$60K - $80K</td>\n",
       "      <td>blue</td>\n",
       "      <td>39</td>\n",
       "      <td>5</td>\n",
       "      <td>3</td>\n",
       "      <td>1</td>\n",
       "      <td>12.691,51</td>\n",
       "      <td>1.144,90</td>\n",
       "      <td>42</td>\n",
       "    </tr>\n",
       "    <tr>\n",
       "      <th>1</th>\n",
       "      <td>818770008</td>\n",
       "      <td>0</td>\n",
       "      <td>49</td>\n",
       "      <td>F</td>\n",
       "      <td>5</td>\n",
       "      <td>mestrado</td>\n",
       "      <td>solteiro</td>\n",
       "      <td>menos que $40K</td>\n",
       "      <td>blue</td>\n",
       "      <td>44</td>\n",
       "      <td>6</td>\n",
       "      <td>2</td>\n",
       "      <td>1</td>\n",
       "      <td>8.256,96</td>\n",
       "      <td>1.291,45</td>\n",
       "      <td>33</td>\n",
       "    </tr>\n",
       "    <tr>\n",
       "      <th>2</th>\n",
       "      <td>713982108</td>\n",
       "      <td>0</td>\n",
       "      <td>51</td>\n",
       "      <td>M</td>\n",
       "      <td>3</td>\n",
       "      <td>mestrado</td>\n",
       "      <td>casado</td>\n",
       "      <td>$80K - $120K</td>\n",
       "      <td>blue</td>\n",
       "      <td>36</td>\n",
       "      <td>4</td>\n",
       "      <td>0</td>\n",
       "      <td>1</td>\n",
       "      <td>3.418,56</td>\n",
       "      <td>1.887,72</td>\n",
       "      <td>20</td>\n",
       "    </tr>\n",
       "    <tr>\n",
       "      <th>3</th>\n",
       "      <td>769911858</td>\n",
       "      <td>0</td>\n",
       "      <td>40</td>\n",
       "      <td>F</td>\n",
       "      <td>4</td>\n",
       "      <td>ensino medio</td>\n",
       "      <td>NaN</td>\n",
       "      <td>menos que $40K</td>\n",
       "      <td>blue</td>\n",
       "      <td>34</td>\n",
       "      <td>3</td>\n",
       "      <td>1</td>\n",
       "      <td>4</td>\n",
       "      <td>3.313,03</td>\n",
       "      <td>1.171,56</td>\n",
       "      <td>20</td>\n",
       "    </tr>\n",
       "    <tr>\n",
       "      <th>4</th>\n",
       "      <td>709106358</td>\n",
       "      <td>0</td>\n",
       "      <td>40</td>\n",
       "      <td>M</td>\n",
       "      <td>3</td>\n",
       "      <td>sem educacao formal</td>\n",
       "      <td>casado</td>\n",
       "      <td>$60K - $80K</td>\n",
       "      <td>blue</td>\n",
       "      <td>21</td>\n",
       "      <td>5</td>\n",
       "      <td>0</td>\n",
       "      <td>1</td>\n",
       "      <td>4.716,22</td>\n",
       "      <td>816,08</td>\n",
       "      <td>28</td>\n",
       "    </tr>\n",
       "  </tbody>\n",
       "</table>\n",
       "</div>"
      ],
      "text/plain": [
       "          id  default  idade sexo  dependentes         escolaridade  \\\n",
       "0  768805383        0     45    M            3         ensino medio   \n",
       "1  818770008        0     49    F            5             mestrado   \n",
       "2  713982108        0     51    M            3             mestrado   \n",
       "3  769911858        0     40    F            4         ensino medio   \n",
       "4  709106358        0     40    M            3  sem educacao formal   \n",
       "\n",
       "  estado_civil   salario_anual tipo_cartao  meses_de_relacionamento  \\\n",
       "0       casado     $60K - $80K        blue                       39   \n",
       "1     solteiro  menos que $40K        blue                       44   \n",
       "2       casado    $80K - $120K        blue                       36   \n",
       "3          NaN  menos que $40K        blue                       34   \n",
       "4       casado     $60K - $80K        blue                       21   \n",
       "\n",
       "   qtd_produtos  iteracoes_12m  meses_inativo_12m limite_credito  \\\n",
       "0             5              3                  1      12.691,51   \n",
       "1             6              2                  1       8.256,96   \n",
       "2             4              0                  1       3.418,56   \n",
       "3             3              1                  4       3.313,03   \n",
       "4             5              0                  1       4.716,22   \n",
       "\n",
       "  valor_transacoes_12m  qtd_transacoes_12m  \n",
       "0             1.144,90                  42  \n",
       "1             1.291,45                  33  \n",
       "2             1.887,72                  20  \n",
       "3             1.171,56                  20  \n",
       "4               816,08                  28  "
      ]
     },
     "execution_count": 2,
     "metadata": {},
     "output_type": "execute_result"
    }
   ],
   "source": [
    "df.head()"
   ]
  },
  {
   "cell_type": "code",
   "execution_count": 3,
   "metadata": {
    "execution": {
     "iopub.execute_input": "2021-07-30T18:21:30.543959Z",
     "iopub.status.busy": "2021-07-30T18:21:30.543317Z",
     "iopub.status.idle": "2021-07-30T18:21:30.570299Z",
     "shell.execute_reply": "2021-07-30T18:21:30.570777Z",
     "shell.execute_reply.started": "2021-07-30T17:34:23.853472Z"
    },
    "papermill": {
     "duration": 0.057255,
     "end_time": "2021-07-30T18:21:30.570989",
     "exception": false,
     "start_time": "2021-07-30T18:21:30.513734",
     "status": "completed"
    },
    "tags": []
   },
   "outputs": [],
   "source": [
    "qtd_total, _ = df.shape\n",
    "qtd_adimplentes, _ = df[df['default'] == 0].shape\n",
    "qtd_inadimplentes, _ = df[df['default'] == 1].shape"
   ]
  },
  {
   "cell_type": "code",
   "execution_count": 4,
   "metadata": {
    "execution": {
     "iopub.execute_input": "2021-07-30T18:21:30.629196Z",
     "iopub.status.busy": "2021-07-30T18:21:30.628545Z",
     "iopub.status.idle": "2021-07-30T18:21:30.634806Z",
     "shell.execute_reply": "2021-07-30T18:21:30.634170Z",
     "shell.execute_reply.started": "2021-07-30T17:34:23.88874Z"
    },
    "papermill": {
     "duration": 0.03681,
     "end_time": "2021-07-30T18:21:30.634969",
     "exception": false,
     "start_time": "2021-07-30T18:21:30.598159",
     "status": "completed"
    },
    "tags": []
   },
   "outputs": [
    {
     "name": "stdout",
     "output_type": "stream",
     "text": [
      "A proporcão clientes adimplentes é de 83.93%\n",
      "A proporcão clientes inadimplentes é de 16.07%\n"
     ]
    }
   ],
   "source": [
    "print(f\"A proporcão clientes adimplentes é de {round(100 * qtd_adimplentes / qtd_total, 2)}%\")\n",
    "print(f\"A proporcão clientes inadimplentes é de {round(100 * qtd_inadimplentes / qtd_total, 2)}%\")"
   ]
  },
  {
   "cell_type": "code",
   "execution_count": 5,
   "metadata": {
    "execution": {
     "iopub.execute_input": "2021-07-30T18:21:30.703947Z",
     "iopub.status.busy": "2021-07-30T18:21:30.703250Z",
     "iopub.status.idle": "2021-07-30T18:21:30.720754Z",
     "shell.execute_reply": "2021-07-30T18:21:30.720147Z",
     "shell.execute_reply.started": "2021-07-30T17:34:23.89629Z"
    },
    "papermill": {
     "duration": 0.058568,
     "end_time": "2021-07-30T18:21:30.720900",
     "exception": false,
     "start_time": "2021-07-30T18:21:30.662332",
     "status": "completed"
    },
    "tags": []
   },
   "outputs": [
    {
     "name": "stdout",
     "output_type": "stream",
     "text": [
      "<class 'pandas.core.frame.DataFrame'>\n",
      "RangeIndex: 10127 entries, 0 to 10126\n",
      "Data columns (total 16 columns):\n",
      " #   Column                   Non-Null Count  Dtype \n",
      "---  ------                   --------------  ----- \n",
      " 0   id                       10127 non-null  int64 \n",
      " 1   default                  10127 non-null  int64 \n",
      " 2   idade                    10127 non-null  int64 \n",
      " 3   sexo                     10127 non-null  object\n",
      " 4   dependentes              10127 non-null  int64 \n",
      " 5   escolaridade             8608 non-null   object\n",
      " 6   estado_civil             9378 non-null   object\n",
      " 7   salario_anual            9015 non-null   object\n",
      " 8   tipo_cartao              10127 non-null  object\n",
      " 9   meses_de_relacionamento  10127 non-null  int64 \n",
      " 10  qtd_produtos             10127 non-null  int64 \n",
      " 11  iteracoes_12m            10127 non-null  int64 \n",
      " 12  meses_inativo_12m        10127 non-null  int64 \n",
      " 13  limite_credito           10127 non-null  object\n",
      " 14  valor_transacoes_12m     10127 non-null  object\n",
      " 15  qtd_transacoes_12m       10127 non-null  int64 \n",
      "dtypes: int64(9), object(7)\n",
      "memory usage: 1.2+ MB\n"
     ]
    }
   ],
   "source": [
    "#Analisando algumas informações gerais sobre o dataset\n",
    "df.info()"
   ]
  },
  {
   "cell_type": "markdown",
   "metadata": {
    "papermill": {
     "duration": 0.027601,
     "end_time": "2021-07-30T18:21:30.776238",
     "exception": false,
     "start_time": "2021-07-30T18:21:30.748637",
     "status": "completed"
    },
    "tags": []
   },
   "source": [
    "Note que as colunas **limite_credito** e **valor_transacoes_12m** estão sendo interpretadas como contendo valores categóricos (dtype = object) sendo que deveriam ser tratadas como contendo valores do tipo numérico. Além disso, já podemos perceber que algumas colunas possuem dados faltantes."
   ]
  },
  {
   "cell_type": "code",
   "execution_count": 6,
   "metadata": {
    "execution": {
     "iopub.execute_input": "2021-07-30T18:21:30.846817Z",
     "iopub.status.busy": "2021-07-30T18:21:30.843291Z",
     "iopub.status.idle": "2021-07-30T18:21:30.850894Z",
     "shell.execute_reply": "2021-07-30T18:21:30.851369Z",
     "shell.execute_reply.started": "2021-07-30T17:34:23.93594Z"
    },
    "papermill": {
     "duration": 0.047479,
     "end_time": "2021-07-30T18:21:30.851544",
     "exception": false,
     "start_time": "2021-07-30T18:21:30.804065",
     "status": "completed"
    },
    "tags": []
   },
   "outputs": [
    {
     "data": {
      "text/plain": [
       "id                         False\n",
       "default                    False\n",
       "idade                      False\n",
       "sexo                       False\n",
       "dependentes                False\n",
       "escolaridade                True\n",
       "estado_civil                True\n",
       "salario_anual               True\n",
       "tipo_cartao                False\n",
       "meses_de_relacionamento    False\n",
       "qtd_produtos               False\n",
       "iteracoes_12m              False\n",
       "meses_inativo_12m          False\n",
       "limite_credito             False\n",
       "valor_transacoes_12m       False\n",
       "qtd_transacoes_12m         False\n",
       "dtype: bool"
      ]
     },
     "execution_count": 6,
     "metadata": {},
     "output_type": "execute_result"
    }
   ],
   "source": [
    "#Verificando quais colunas possuem dados faltantes\n",
    "df.isna().any()"
   ]
  },
  {
   "cell_type": "code",
   "execution_count": 7,
   "metadata": {
    "execution": {
     "iopub.execute_input": "2021-07-30T18:21:30.915361Z",
     "iopub.status.busy": "2021-07-30T18:21:30.914376Z",
     "iopub.status.idle": "2021-07-30T18:21:30.917625Z",
     "shell.execute_reply": "2021-07-30T18:21:30.917095Z",
     "shell.execute_reply.started": "2021-07-30T17:34:23.953061Z"
    },
    "papermill": {
     "duration": 0.03828,
     "end_time": "2021-07-30T18:21:30.917762",
     "exception": false,
     "start_time": "2021-07-30T18:21:30.879482",
     "status": "completed"
    },
    "tags": []
   },
   "outputs": [],
   "source": [
    "#Analisando as proporções de inadimplência e adimplência nas colunas para as quais existem dados faltantes\n",
    "\n",
    "def stats_dados_faltantes(df: pd.DataFrame) -> None:\n",
    "\n",
    "  stats_dados_faltantes = []\n",
    "  for col in df.columns:\n",
    "    if df[col].isna().any():\n",
    "      qtd, _ = df[df[col].isna()].shape\n",
    "      total, _ = df.shape\n",
    "      dict_dados_faltantes = {col: {'quantidade': qtd, \"porcentagem\": round(100 * qtd/total, 2)}}\n",
    "      stats_dados_faltantes.append(dict_dados_faltantes)\n",
    "\n",
    "  for stat in stats_dados_faltantes:\n",
    "    print(stat)"
   ]
  },
  {
   "cell_type": "code",
   "execution_count": 8,
   "metadata": {
    "execution": {
     "iopub.execute_input": "2021-07-30T18:21:30.985867Z",
     "iopub.status.busy": "2021-07-30T18:21:30.982463Z",
     "iopub.status.idle": "2021-07-30T18:21:30.999010Z",
     "shell.execute_reply": "2021-07-30T18:21:30.999550Z",
     "shell.execute_reply.started": "2021-07-30T17:34:23.968876Z"
    },
    "papermill": {
     "duration": 0.05378,
     "end_time": "2021-07-30T18:21:30.999729",
     "exception": false,
     "start_time": "2021-07-30T18:21:30.945949",
     "status": "completed"
    },
    "tags": []
   },
   "outputs": [
    {
     "name": "stdout",
     "output_type": "stream",
     "text": [
      "{'escolaridade': {'quantidade': 1519, 'porcentagem': 15.0}}\n",
      "{'estado_civil': {'quantidade': 749, 'porcentagem': 7.4}}\n",
      "{'salario_anual': {'quantidade': 1112, 'porcentagem': 10.98}}\n"
     ]
    }
   ],
   "source": [
    "stats_dados_faltantes(df=df)"
   ]
  },
  {
   "cell_type": "code",
   "execution_count": 9,
   "metadata": {
    "execution": {
     "iopub.execute_input": "2021-07-30T18:21:31.062931Z",
     "iopub.status.busy": "2021-07-30T18:21:31.062285Z",
     "iopub.status.idle": "2021-07-30T18:21:31.085108Z",
     "shell.execute_reply": "2021-07-30T18:21:31.084545Z",
     "shell.execute_reply.started": "2021-07-30T17:34:23.998287Z"
    },
    "papermill": {
     "duration": 0.056281,
     "end_time": "2021-07-30T18:21:31.085251",
     "exception": false,
     "start_time": "2021-07-30T18:21:31.028970",
     "status": "completed"
    },
    "tags": []
   },
   "outputs": [
    {
     "name": "stdout",
     "output_type": "stream",
     "text": [
      "{'escolaridade': {'quantidade': 1263, 'porcentagem': 14.86}}\n",
      "{'estado_civil': {'quantidade': 620, 'porcentagem': 7.29}}\n",
      "{'salario_anual': {'quantidade': 925, 'porcentagem': 10.88}}\n"
     ]
    }
   ],
   "source": [
    "stats_dados_faltantes(df=df[df['default']==0])"
   ]
  },
  {
   "cell_type": "code",
   "execution_count": 10,
   "metadata": {
    "execution": {
     "iopub.execute_input": "2021-07-30T18:21:31.146349Z",
     "iopub.status.busy": "2021-07-30T18:21:31.145335Z",
     "iopub.status.idle": "2021-07-30T18:21:31.160236Z",
     "shell.execute_reply": "2021-07-30T18:21:31.160787Z",
     "shell.execute_reply.started": "2021-07-30T17:34:24.021604Z"
    },
    "papermill": {
     "duration": 0.046999,
     "end_time": "2021-07-30T18:21:31.160974",
     "exception": false,
     "start_time": "2021-07-30T18:21:31.113975",
     "status": "completed"
    },
    "tags": []
   },
   "outputs": [
    {
     "name": "stdout",
     "output_type": "stream",
     "text": [
      "{'escolaridade': {'quantidade': 256, 'porcentagem': 15.73}}\n",
      "{'estado_civil': {'quantidade': 129, 'porcentagem': 7.93}}\n",
      "{'salario_anual': {'quantidade': 187, 'porcentagem': 11.49}}\n"
     ]
    }
   ],
   "source": [
    "stats_dados_faltantes(df=df[df['default']==1])"
   ]
  },
  {
   "cell_type": "markdown",
   "metadata": {
    "papermill": {
     "duration": 0.029724,
     "end_time": "2021-07-30T18:21:31.219805",
     "exception": false,
     "start_time": "2021-07-30T18:21:31.190081",
     "status": "completed"
    },
    "tags": []
   },
   "source": [
    "Note que as proporções dessas quantidades faltantes se mantêm aproximadamente iguais tanto no caso de inadimplência ('default'=1) quanto no caso de adimplência ('default'=0). Ou seja, ambas as classes são afetadas aproximadamente da mesma maneira pela ausência de dados."
   ]
  },
  {
   "cell_type": "markdown",
   "metadata": {
    "papermill": {
     "duration": 0.028603,
     "end_time": "2021-07-30T18:21:31.277351",
     "exception": false,
     "start_time": "2021-07-30T18:21:31.248748",
     "status": "completed"
    },
    "tags": []
   },
   "source": [
    "# **3\\. Transformação e limpeza dos dados**"
   ]
  },
  {
   "cell_type": "markdown",
   "metadata": {
    "papermill": {
     "duration": 0.028839,
     "end_time": "2021-07-30T18:21:31.335302",
     "exception": false,
     "start_time": "2021-07-30T18:21:31.306463",
     "status": "completed"
    },
    "tags": []
   },
   "source": [
    "Com a exploração iniciada acima, vemos que o primeiro passo a ser tomado consiste na transformação dos dados erroneamente classificados como categóricos em numéricos. Para isso, abaixo iremos transformar os valores presentes nessas colunas para o formato onde casas decimais são colocadas depois de um ponto, e não uma vírgula. "
   ]
  },
  {
   "cell_type": "code",
   "execution_count": 11,
   "metadata": {
    "execution": {
     "iopub.execute_input": "2021-07-30T18:21:31.420265Z",
     "iopub.status.busy": "2021-07-30T18:21:31.419416Z",
     "iopub.status.idle": "2021-07-30T18:21:31.423732Z",
     "shell.execute_reply": "2021-07-30T18:21:31.423209Z",
     "shell.execute_reply.started": "2021-07-30T17:34:24.038333Z"
    },
    "papermill": {
     "duration": 0.059299,
     "end_time": "2021-07-30T18:21:31.423880",
     "exception": false,
     "start_time": "2021-07-30T18:21:31.364581",
     "status": "completed"
    },
    "tags": []
   },
   "outputs": [],
   "source": [
    "#Função para formatação adequada de casas decimais\n",
    "fn = lambda valor: float(valor.replace(\".\", \"\").replace(\",\", \".\"))\n",
    "\n",
    "df['valor_transacoes_12m'] = df['valor_transacoes_12m'].apply(fn)\n",
    "df['limite_credito'] = df['limite_credito'].apply(fn)"
   ]
  },
  {
   "cell_type": "markdown",
   "metadata": {
    "papermill": {
     "duration": 0.029963,
     "end_time": "2021-07-30T18:21:31.483328",
     "exception": false,
     "start_time": "2021-07-30T18:21:31.453365",
     "status": "completed"
    },
    "tags": []
   },
   "source": [
    "Vamos verificar agora se as colunas **limite_credito** e **valor_transacoes_12m** foram transformadas corretamente e também acessar algumas estatísticas relevantes das colunas numéricas."
   ]
  },
  {
   "cell_type": "code",
   "execution_count": 12,
   "metadata": {
    "execution": {
     "iopub.execute_input": "2021-07-30T18:21:31.545208Z",
     "iopub.status.busy": "2021-07-30T18:21:31.544501Z",
     "iopub.status.idle": "2021-07-30T18:21:31.594805Z",
     "shell.execute_reply": "2021-07-30T18:21:31.594107Z",
     "shell.execute_reply.started": "2021-07-30T17:34:24.067637Z"
    },
    "papermill": {
     "duration": 0.082478,
     "end_time": "2021-07-30T18:21:31.594965",
     "exception": false,
     "start_time": "2021-07-30T18:21:31.512487",
     "status": "completed"
    },
    "tags": []
   },
   "outputs": [
    {
     "data": {
      "text/html": [
       "<div>\n",
       "<style scoped>\n",
       "    .dataframe tbody tr th:only-of-type {\n",
       "        vertical-align: middle;\n",
       "    }\n",
       "\n",
       "    .dataframe tbody tr th {\n",
       "        vertical-align: top;\n",
       "    }\n",
       "\n",
       "    .dataframe thead th {\n",
       "        text-align: right;\n",
       "    }\n",
       "</style>\n",
       "<table border=\"1\" class=\"dataframe\">\n",
       "  <thead>\n",
       "    <tr style=\"text-align: right;\">\n",
       "      <th></th>\n",
       "      <th>count</th>\n",
       "      <th>mean</th>\n",
       "      <th>std</th>\n",
       "      <th>min</th>\n",
       "      <th>25%</th>\n",
       "      <th>50%</th>\n",
       "      <th>75%</th>\n",
       "      <th>max</th>\n",
       "    </tr>\n",
       "  </thead>\n",
       "  <tbody>\n",
       "    <tr>\n",
       "      <th>idade</th>\n",
       "      <td>10127.0</td>\n",
       "      <td>46.325960</td>\n",
       "      <td>8.016814</td>\n",
       "      <td>26.00</td>\n",
       "      <td>41.000</td>\n",
       "      <td>46.00</td>\n",
       "      <td>52.000</td>\n",
       "      <td>73.00</td>\n",
       "    </tr>\n",
       "    <tr>\n",
       "      <th>dependentes</th>\n",
       "      <td>10127.0</td>\n",
       "      <td>2.346203</td>\n",
       "      <td>1.298908</td>\n",
       "      <td>0.00</td>\n",
       "      <td>1.000</td>\n",
       "      <td>2.00</td>\n",
       "      <td>3.000</td>\n",
       "      <td>5.00</td>\n",
       "    </tr>\n",
       "    <tr>\n",
       "      <th>meses_de_relacionamento</th>\n",
       "      <td>10127.0</td>\n",
       "      <td>35.928409</td>\n",
       "      <td>7.986416</td>\n",
       "      <td>13.00</td>\n",
       "      <td>31.000</td>\n",
       "      <td>36.00</td>\n",
       "      <td>40.000</td>\n",
       "      <td>56.00</td>\n",
       "    </tr>\n",
       "    <tr>\n",
       "      <th>qtd_produtos</th>\n",
       "      <td>10127.0</td>\n",
       "      <td>3.812580</td>\n",
       "      <td>1.554408</td>\n",
       "      <td>1.00</td>\n",
       "      <td>3.000</td>\n",
       "      <td>4.00</td>\n",
       "      <td>5.000</td>\n",
       "      <td>6.00</td>\n",
       "    </tr>\n",
       "    <tr>\n",
       "      <th>iteracoes_12m</th>\n",
       "      <td>10127.0</td>\n",
       "      <td>2.455317</td>\n",
       "      <td>1.106225</td>\n",
       "      <td>0.00</td>\n",
       "      <td>2.000</td>\n",
       "      <td>2.00</td>\n",
       "      <td>3.000</td>\n",
       "      <td>6.00</td>\n",
       "    </tr>\n",
       "    <tr>\n",
       "      <th>meses_inativo_12m</th>\n",
       "      <td>10127.0</td>\n",
       "      <td>2.341167</td>\n",
       "      <td>1.010622</td>\n",
       "      <td>0.00</td>\n",
       "      <td>2.000</td>\n",
       "      <td>2.00</td>\n",
       "      <td>3.000</td>\n",
       "      <td>6.00</td>\n",
       "    </tr>\n",
       "    <tr>\n",
       "      <th>limite_credito</th>\n",
       "      <td>10127.0</td>\n",
       "      <td>8632.440165</td>\n",
       "      <td>9088.788041</td>\n",
       "      <td>1438.00</td>\n",
       "      <td>2555.355</td>\n",
       "      <td>4549.42</td>\n",
       "      <td>11068.175</td>\n",
       "      <td>34516.99</td>\n",
       "    </tr>\n",
       "    <tr>\n",
       "      <th>valor_transacoes_12m</th>\n",
       "      <td>10127.0</td>\n",
       "      <td>4404.583047</td>\n",
       "      <td>3397.128078</td>\n",
       "      <td>510.16</td>\n",
       "      <td>2155.825</td>\n",
       "      <td>3899.59</td>\n",
       "      <td>4741.310</td>\n",
       "      <td>18484.93</td>\n",
       "    </tr>\n",
       "    <tr>\n",
       "      <th>qtd_transacoes_12m</th>\n",
       "      <td>10127.0</td>\n",
       "      <td>64.858695</td>\n",
       "      <td>23.472570</td>\n",
       "      <td>10.00</td>\n",
       "      <td>45.000</td>\n",
       "      <td>67.00</td>\n",
       "      <td>81.000</td>\n",
       "      <td>139.00</td>\n",
       "    </tr>\n",
       "  </tbody>\n",
       "</table>\n",
       "</div>"
      ],
      "text/plain": [
       "                           count         mean          std      min       25%  \\\n",
       "idade                    10127.0    46.325960     8.016814    26.00    41.000   \n",
       "dependentes              10127.0     2.346203     1.298908     0.00     1.000   \n",
       "meses_de_relacionamento  10127.0    35.928409     7.986416    13.00    31.000   \n",
       "qtd_produtos             10127.0     3.812580     1.554408     1.00     3.000   \n",
       "iteracoes_12m            10127.0     2.455317     1.106225     0.00     2.000   \n",
       "meses_inativo_12m        10127.0     2.341167     1.010622     0.00     2.000   \n",
       "limite_credito           10127.0  8632.440165  9088.788041  1438.00  2555.355   \n",
       "valor_transacoes_12m     10127.0  4404.583047  3397.128078   510.16  2155.825   \n",
       "qtd_transacoes_12m       10127.0    64.858695    23.472570    10.00    45.000   \n",
       "\n",
       "                             50%        75%       max  \n",
       "idade                      46.00     52.000     73.00  \n",
       "dependentes                 2.00      3.000      5.00  \n",
       "meses_de_relacionamento    36.00     40.000     56.00  \n",
       "qtd_produtos                4.00      5.000      6.00  \n",
       "iteracoes_12m               2.00      3.000      6.00  \n",
       "meses_inativo_12m           2.00      3.000      6.00  \n",
       "limite_credito           4549.42  11068.175  34516.99  \n",
       "valor_transacoes_12m     3899.59   4741.310  18484.93  \n",
       "qtd_transacoes_12m         67.00     81.000    139.00  "
      ]
     },
     "execution_count": 12,
     "metadata": {},
     "output_type": "execute_result"
    }
   ],
   "source": [
    "df.drop(['id','default'], axis=1).select_dtypes('number').describe().transpose()"
   ]
  },
  {
   "cell_type": "markdown",
   "metadata": {
    "papermill": {
     "duration": 0.029255,
     "end_time": "2021-07-30T18:21:31.654443",
     "exception": false,
     "start_time": "2021-07-30T18:21:31.625188",
     "status": "completed"
    },
    "tags": []
   },
   "source": [
    "Vimos que as colunas foram transformadas corretamente para o tipo numérico. Agora, vamos tratar os dados faltantes. Como vimos na seção anterior, os dados ausentes se mantêm proporcionais para as duas classes de interesse (adimplentes e inadimplentes). Portanto, podemos simplesmente removê-los sem que isso introduza um desbalanceamento extra aos dados."
   ]
  },
  {
   "cell_type": "code",
   "execution_count": 13,
   "metadata": {
    "execution": {
     "iopub.execute_input": "2021-07-30T18:21:31.725157Z",
     "iopub.status.busy": "2021-07-30T18:21:31.724466Z",
     "iopub.status.idle": "2021-07-30T18:21:31.731582Z",
     "shell.execute_reply": "2021-07-30T18:21:31.732098Z",
     "shell.execute_reply.started": "2021-07-30T17:34:24.127181Z"
    },
    "papermill": {
     "duration": 0.048055,
     "end_time": "2021-07-30T18:21:31.732285",
     "exception": false,
     "start_time": "2021-07-30T18:21:31.684230",
     "status": "completed"
    },
    "tags": []
   },
   "outputs": [],
   "source": [
    "df.dropna(inplace=True)\n",
    "nova_qtd_total,_ = df.shape"
   ]
  },
  {
   "cell_type": "code",
   "execution_count": 14,
   "metadata": {
    "execution": {
     "iopub.execute_input": "2021-07-30T18:21:31.794512Z",
     "iopub.status.busy": "2021-07-30T18:21:31.793873Z",
     "iopub.status.idle": "2021-07-30T18:21:31.798343Z",
     "shell.execute_reply": "2021-07-30T18:21:31.798829Z",
     "shell.execute_reply.started": "2021-07-30T17:34:24.144096Z"
    },
    "papermill": {
     "duration": 0.037146,
     "end_time": "2021-07-30T18:21:31.799013",
     "exception": false,
     "start_time": "2021-07-30T18:21:31.761867",
     "status": "completed"
    },
    "tags": []
   },
   "outputs": [
    {
     "name": "stdout",
     "output_type": "stream",
     "text": [
      "Quantidade de linhas retiradas: 3046.\n"
     ]
    }
   ],
   "source": [
    "print(f\"Quantidade de linhas retiradas: {qtd_total-nova_qtd_total}.\")"
   ]
  },
  {
   "cell_type": "markdown",
   "metadata": {
    "papermill": {
     "duration": 0.030119,
     "end_time": "2021-07-30T18:21:31.858908",
     "exception": false,
     "start_time": "2021-07-30T18:21:31.828789",
     "status": "completed"
    },
    "tags": []
   },
   "source": [
    "# **4\\. Análise e Visualização dos Dados** "
   ]
  },
  {
   "cell_type": "markdown",
   "metadata": {
    "papermill": {
     "duration": 0.030723,
     "end_time": "2021-07-30T18:21:31.919452",
     "exception": false,
     "start_time": "2021-07-30T18:21:31.888729",
     "status": "completed"
    },
    "tags": []
   },
   "source": [
    "Vamos agora analisar as características que podem ser indicadoras de inadimplência. Começaremos pelas quantidades categóricas e então analisaremos as quantidades numéricas. Note que não usaremos a coluna **sexo** do nosso dataset pois não queremos introduzir um viés de gênero em nossas análises."
   ]
  },
  {
   "cell_type": "code",
   "execution_count": 15,
   "metadata": {
    "execution": {
     "iopub.execute_input": "2021-07-30T18:21:31.987459Z",
     "iopub.status.busy": "2021-07-30T18:21:31.986764Z",
     "iopub.status.idle": "2021-07-30T18:21:33.105650Z",
     "shell.execute_reply": "2021-07-30T18:21:33.106260Z",
     "shell.execute_reply.started": "2021-07-30T17:34:24.159245Z"
    },
    "papermill": {
     "duration": 1.157006,
     "end_time": "2021-07-30T18:21:33.106431",
     "exception": false,
     "start_time": "2021-07-30T18:21:31.949425",
     "status": "completed"
    },
    "tags": []
   },
   "outputs": [
    {
     "data": {
      "text/plain": [
       "<seaborn.axisgrid.FacetGrid at 0x7f5a2a5532d0>"
      ]
     },
     "execution_count": 15,
     "metadata": {},
     "output_type": "execute_result"
    },
    {
     "data": {
      "image/png": "[encoded data removed]",
      "text/plain": [
       "<Figure size 461.875x360 with 1 Axes>"
      ]
     },
     "metadata": {},
     "output_type": "display_data"
    },
    {
     "data": {
      "image/png": "[encoded data removed]",
      "text/plain": [
       "<Figure size 461.875x360 with 1 Axes>"
      ]
     },
     "metadata": {},
     "output_type": "display_data"
    }
   ],
   "source": [
    "#Visualização dados categóricos\n",
    "sns.set_style(\"whitegrid\")\n",
    "\n",
    "df.replace({'default':{1:'inadimplente',0:'adimplente'}}, inplace=True) \n",
    "\n",
    "f = sns.catplot(x='escolaridade', data=df, hue='default', kind='count')\n",
    "f.set(title='Escolaridade: adimplentes x inadimplentes', xlabel='Escolaridade', ylabel='Frequência Absoluta')\n",
    "f.set_xticklabels(rotation=45)\n",
    "\n",
    "f = sns.catplot(x='salario_anual', data=df, hue='default', kind='count')\n",
    "f.set(title='Salário Anual: adimplentes x inadimplentes', xlabel='Salário Anual', ylabel='Frequência Absoluta')\n",
    "f.set_xticklabels(rotation=45)\n",
    "\n"
   ]
  },
  {
   "cell_type": "markdown",
   "metadata": {
    "papermill": {
     "duration": 0.032615,
     "end_time": "2021-07-30T18:21:33.172505",
     "exception": false,
     "start_time": "2021-07-30T18:21:33.139890",
     "status": "completed"
    },
    "tags": []
   },
   "source": [
    "Podemos observar acima que nem o salário anual e nem a escolaridade parecem ser características relevantes para selecionar clientes inadimplentes, dado que o tamanho das barras varia aproximadamente de maneira igual para ambas as classes. Interessante notar que, intuitivamente, o salário anual poderia ser considerado decisivo para a distinção entre adimplentes e inadimplentes e, no entanto, os dados não corroboram essa premissa. "
   ]
  },
  {
   "cell_type": "code",
   "execution_count": 16,
   "metadata": {
    "execution": {
     "iopub.execute_input": "2021-07-30T18:21:33.240903Z",
     "iopub.status.busy": "2021-07-30T18:21:33.240290Z",
     "iopub.status.idle": "2021-07-30T18:21:33.263286Z",
     "shell.execute_reply": "2021-07-30T18:21:33.262755Z",
     "shell.execute_reply.started": "2021-07-30T17:34:25.54378Z"
    },
    "papermill": {
     "duration": 0.058234,
     "end_time": "2021-07-30T18:21:33.263434",
     "exception": false,
     "start_time": "2021-07-30T18:21:33.205200",
     "status": "completed"
    },
    "tags": []
   },
   "outputs": [
    {
     "data": {
      "text/html": [
       "<div>\n",
       "<style scoped>\n",
       "    .dataframe tbody tr th:only-of-type {\n",
       "        vertical-align: middle;\n",
       "    }\n",
       "\n",
       "    .dataframe tbody tr th {\n",
       "        vertical-align: top;\n",
       "    }\n",
       "\n",
       "    .dataframe thead th {\n",
       "        text-align: right;\n",
       "    }\n",
       "</style>\n",
       "<table border=\"1\" class=\"dataframe\">\n",
       "  <thead>\n",
       "    <tr style=\"text-align: right;\">\n",
       "      <th></th>\n",
       "      <th>idade</th>\n",
       "      <th>dependentes</th>\n",
       "      <th>meses_de_relacionamento</th>\n",
       "      <th>qtd_produtos</th>\n",
       "      <th>iteracoes_12m</th>\n",
       "      <th>meses_inativo_12m</th>\n",
       "      <th>limite_credito</th>\n",
       "      <th>valor_transacoes_12m</th>\n",
       "      <th>qtd_transacoes_12m</th>\n",
       "    </tr>\n",
       "  </thead>\n",
       "  <tbody>\n",
       "    <tr>\n",
       "      <th>0</th>\n",
       "      <td>45</td>\n",
       "      <td>3</td>\n",
       "      <td>39</td>\n",
       "      <td>5</td>\n",
       "      <td>3</td>\n",
       "      <td>1</td>\n",
       "      <td>12691.51</td>\n",
       "      <td>1144.90</td>\n",
       "      <td>42</td>\n",
       "    </tr>\n",
       "    <tr>\n",
       "      <th>1</th>\n",
       "      <td>49</td>\n",
       "      <td>5</td>\n",
       "      <td>44</td>\n",
       "      <td>6</td>\n",
       "      <td>2</td>\n",
       "      <td>1</td>\n",
       "      <td>8256.96</td>\n",
       "      <td>1291.45</td>\n",
       "      <td>33</td>\n",
       "    </tr>\n",
       "    <tr>\n",
       "      <th>2</th>\n",
       "      <td>51</td>\n",
       "      <td>3</td>\n",
       "      <td>36</td>\n",
       "      <td>4</td>\n",
       "      <td>0</td>\n",
       "      <td>1</td>\n",
       "      <td>3418.56</td>\n",
       "      <td>1887.72</td>\n",
       "      <td>20</td>\n",
       "    </tr>\n",
       "    <tr>\n",
       "      <th>4</th>\n",
       "      <td>40</td>\n",
       "      <td>3</td>\n",
       "      <td>21</td>\n",
       "      <td>5</td>\n",
       "      <td>0</td>\n",
       "      <td>1</td>\n",
       "      <td>4716.22</td>\n",
       "      <td>816.08</td>\n",
       "      <td>28</td>\n",
       "    </tr>\n",
       "    <tr>\n",
       "      <th>5</th>\n",
       "      <td>44</td>\n",
       "      <td>2</td>\n",
       "      <td>36</td>\n",
       "      <td>3</td>\n",
       "      <td>2</td>\n",
       "      <td>1</td>\n",
       "      <td>4010.69</td>\n",
       "      <td>1088.07</td>\n",
       "      <td>24</td>\n",
       "    </tr>\n",
       "  </tbody>\n",
       "</table>\n",
       "</div>"
      ],
      "text/plain": [
       "   idade  dependentes  meses_de_relacionamento  qtd_produtos  iteracoes_12m  \\\n",
       "0     45            3                       39             5              3   \n",
       "1     49            5                       44             6              2   \n",
       "2     51            3                       36             4              0   \n",
       "4     40            3                       21             5              0   \n",
       "5     44            2                       36             3              2   \n",
       "\n",
       "   meses_inativo_12m  limite_credito  valor_transacoes_12m  qtd_transacoes_12m  \n",
       "0                  1        12691.51               1144.90                  42  \n",
       "1                  1         8256.96               1291.45                  33  \n",
       "2                  1         3418.56               1887.72                  20  \n",
       "4                  1         4716.22                816.08                  28  \n",
       "5                  1         4010.69               1088.07                  24  "
      ]
     },
     "execution_count": 16,
     "metadata": {},
     "output_type": "execute_result"
    }
   ],
   "source": [
    "#Visualização de dados numéricos\n",
    "\n",
    "sns.set_style(\"whitegrid\")\n",
    "\n",
    "df_adimplente = df[df['default'] == 'adimplente']\n",
    "df_inadimplente = df[df['default'] == 'inadimplente']\n",
    "\n",
    "df.drop(['id', 'default'], axis=1).select_dtypes('number').head()"
   ]
  },
  {
   "cell_type": "code",
   "execution_count": 17,
   "metadata": {
    "execution": {
     "iopub.execute_input": "2021-07-30T18:21:33.361042Z",
     "iopub.status.busy": "2021-07-30T18:21:33.360313Z",
     "iopub.status.idle": "2021-07-30T18:21:34.369209Z",
     "shell.execute_reply": "2021-07-30T18:21:34.368684Z",
     "shell.execute_reply.started": "2021-07-30T17:34:25.574721Z"
    },
    "papermill": {
     "duration": 1.072579,
     "end_time": "2021-07-30T18:21:34.369359",
     "exception": false,
     "start_time": "2021-07-30T18:21:33.296780",
     "status": "completed"
    },
    "tags": []
   },
   "outputs": [
    {
     "data": {
      "image/png": "[encoded data removed]",
      "text/plain": [
       "<Figure size 1440x360 with 3 Axes>"
      ]
     },
     "metadata": {},
     "output_type": "display_data"
    }
   ],
   "source": [
    "coluna = 'qtd_transacoes_12m'\n",
    "titulos = ['Qtd. de Transações no Último Ano', 'Qtd. de Transações no Último Ano de Adimplentes', 'Qtd. de Transações no Último Ano de Inadimplentes']\n",
    "\n",
    "eixo = 0\n",
    "max_y = 0\n",
    "figura, eixos = plt.subplots(1,3, figsize=(20, 5), sharex=True)\n",
    "\n",
    "for dataframe in [df, df_adimplente, df_inadimplente]:\n",
    "\n",
    "  f = sns.histplot(x=coluna, data=dataframe, stat='count', ax=eixos[eixo])\n",
    "  f.set(title=titulos[eixo], xlabel=coluna.capitalize(), ylabel='Frequência Absoluta')\n",
    "\n",
    "  _, max_y_f = f.get_ylim()\n",
    "  max_y = max_y_f if max_y_f > max_y else max_y\n",
    "  f.set(ylim=(0, max_y))\n",
    "\n",
    "  eixo += 1\n",
    "\n",
    "figura.show()"
   ]
  },
  {
   "cell_type": "markdown",
   "metadata": {
    "papermill": {
     "duration": 0.034328,
     "end_time": "2021-07-30T18:21:34.438139",
     "exception": false,
     "start_time": "2021-07-30T18:21:34.403811",
     "status": "completed"
    },
    "tags": []
   },
   "source": [
    "Aqui podemos observar uma distinção clara entre as duas classes de clientes: os adimplentes tem um pico de transações anuais entre 60 e 90, aproximadamente, enquanto os inadimplentes possuem um pico entre 30 e 60. Ou seja, clientes inadimplentes tendem a realizar menos transações. Nesse último caso, seria indicado que a instituição financeira buscasse alcançar este perfil de cliente oferecendo uma possibilidade de negociação de juros e condições especiais de pagamento além de oferecer um limite de crédito mais baixo a futuros clientes similares."
   ]
  },
  {
   "cell_type": "code",
   "execution_count": 18,
   "metadata": {
    "execution": {
     "iopub.execute_input": "2021-07-30T18:21:34.523530Z",
     "iopub.status.busy": "2021-07-30T18:21:34.522810Z",
     "iopub.status.idle": "2021-07-30T18:21:35.631226Z",
     "shell.execute_reply": "2021-07-30T18:21:35.630708Z",
     "shell.execute_reply.started": "2021-07-30T17:34:26.75389Z"
    },
    "papermill": {
     "duration": 1.158535,
     "end_time": "2021-07-30T18:21:35.631368",
     "exception": false,
     "start_time": "2021-07-30T18:21:34.472833",
     "status": "completed"
    },
    "tags": []
   },
   "outputs": [
    {
     "data": {
      "image/png": "[encoded data removed]",
      "text/plain": [
       "<Figure size 1440x360 with 3 Axes>"
      ]
     },
     "metadata": {},
     "output_type": "display_data"
    }
   ],
   "source": [
    "coluna = 'valor_transacoes_12m'\n",
    "titulos = ['Valor das Transações no Último Ano', 'Valor das Transações no Último Ano de Adimplentes', 'Valor das Transações no Último Ano de Inadimplentes']\n",
    "\n",
    "eixo = 0\n",
    "max_y = 0\n",
    "figura, eixos = plt.subplots(1,3, figsize=(20, 5), sharex=True)\n",
    "\n",
    "for dataframe in [df, df_adimplente, df_inadimplente]:\n",
    "\n",
    "  f = sns.histplot(x=coluna, data=dataframe, stat='count', ax=eixos[eixo])\n",
    "  f.set(title=titulos[eixo], xlabel=coluna.capitalize(), ylabel='Frequência Absoluta')\n",
    "\n",
    "  _, max_y_f = f.get_ylim()\n",
    "  max_y = max_y_f if max_y_f > max_y else max_y\n",
    "  f.set(ylim=(0, max_y))\n",
    "\n",
    "  eixo += 1\n",
    "\n",
    "figura.show()"
   ]
  },
  {
   "cell_type": "markdown",
   "metadata": {
    "papermill": {
     "duration": 0.035898,
     "end_time": "2021-07-30T18:21:35.703013",
     "exception": false,
     "start_time": "2021-07-30T18:21:35.667115",
     "status": "completed"
    },
    "tags": []
   },
   "source": [
    "Vemos através destes gráficos que o valor das transações no último ano também parece ser uma característica relevante na distinção entre as classes de clientes. Os inadimplentes possuem um pico bem pronunciado para valores cumulativos de transações entre aproximadamente 500,00 e 3.000,00. \n",
    "\n",
    "Como as duas características analisadas acima se mostraram relevantes na indicação de inadimplência, vamos visualizar a relação entre elas em um único gráfico com intuito de localizar nesse plano onde se localizam os clientes inadimplentes."
   ]
  },
  {
   "cell_type": "code",
   "execution_count": 19,
   "metadata": {
    "execution": {
     "iopub.execute_input": "2021-07-30T18:21:35.786582Z",
     "iopub.status.busy": "2021-07-30T18:21:35.785300Z",
     "iopub.status.idle": "2021-07-30T18:21:36.989062Z",
     "shell.execute_reply": "2021-07-30T18:21:36.989578Z",
     "shell.execute_reply.started": "2021-07-30T17:34:28.043462Z"
    },
    "papermill": {
     "duration": 1.250741,
     "end_time": "2021-07-30T18:21:36.989959",
     "exception": false,
     "start_time": "2021-07-30T18:21:35.739218",
     "status": "completed"
    },
    "tags": []
   },
   "outputs": [
    {
     "data": {
      "image/png": "[encoded data removed]",
      "text/plain": [
       "<Figure size 461.875x360 with 1 Axes>"
      ]
     },
     "metadata": {},
     "output_type": "display_data"
    }
   ],
   "source": [
    "f = sns.relplot(x='valor_transacoes_12m', y='qtd_transacoes_12m', data=df, hue='default')\n",
    "_ = f.set(\n",
    "    title='Relação entre Valor e Quantidade de Transações no Último Ano', \n",
    "    xlabel='Valor das Transações no Último Ano', \n",
    "    ylabel='Quantidade das Transações no Último Ano'\n",
    "  )"
   ]
  },
  {
   "cell_type": "markdown",
   "metadata": {
    "papermill": {
     "duration": 0.039113,
     "end_time": "2021-07-30T18:21:37.070112",
     "exception": false,
     "start_time": "2021-07-30T18:21:37.030999",
     "status": "completed"
    },
    "tags": []
   },
   "source": [
    "Podemos verificar no gráfico acima que há um grupo concentrado de clientes adimplentes para altos valores de transação e alta quantidade de transações. Para tentar contornar inadimplência, a instituição deve se concentrar em acompanhar mais de perto clientes concentrados em dois grupos: aquele para o qual o número de transações do último ano está abaixo de 60 e cuja soma dos valores das transações se concentra em torno de 2.500,00 e aquele para o qual o número de transações do último ano está entre 60 e 80 e cuja soma dos valores das transações se concentra entre 7.000,00 e 10.000,00.\n",
    "\n",
    "Vamos analisar abaixo outra característica numérica que se mostrou relevante na distinção entre inadimplência e adimplência, a quantidade de produtos do cliente."
   ]
  },
  {
   "cell_type": "code",
   "execution_count": 20,
   "metadata": {
    "execution": {
     "iopub.execute_input": "2021-07-30T18:21:37.152330Z",
     "iopub.status.busy": "2021-07-30T18:21:37.151634Z",
     "iopub.status.idle": "2021-07-30T18:21:37.980292Z",
     "shell.execute_reply": "2021-07-30T18:21:37.980795Z",
     "shell.execute_reply.started": "2021-07-30T17:34:29.424042Z"
    },
    "papermill": {
     "duration": 0.871107,
     "end_time": "2021-07-30T18:21:37.981003",
     "exception": false,
     "start_time": "2021-07-30T18:21:37.109896",
     "status": "completed"
    },
    "tags": []
   },
   "outputs": [
    {
     "data": {
      "image/png": "[encoded data removed]",
      "text/plain": [
       "<Figure size 1440x360 with 3 Axes>"
      ]
     },
     "metadata": {},
     "output_type": "display_data"
    }
   ],
   "source": [
    "#Quantidade de produtos\n",
    "coluna = 'qtd_produtos'\n",
    "titulos = ['Quantidade de Produtos', 'Quantidade de Produtos: Adimplentes', 'Quantidade de Produtos: Inadimplentes']\n",
    "\n",
    "eixo = 0\n",
    "max_y = 0\n",
    "figura, eixos = plt.subplots(1,3, figsize=(20, 5), sharex=True)\n",
    "\n",
    "for dataframe in [df, df_adimplente, df_inadimplente]:\n",
    "\n",
    "  f = sns.histplot(dataframe, x=coluna, stat='count', ax=eixos[eixo])\n",
    "  f.set(title=titulos[eixo], xlabel=coluna.capitalize(), ylabel='Frequência Absoluta')\n",
    "\n",
    "  _, max_y_f = f.get_ylim()\n",
    "  max_y = max_y_f if max_y_f > max_y else max_y\n",
    "  f.set(ylim=(0, max_y))\n",
    "\n",
    "  eixo += 1\n",
    "\n",
    "figura.show()"
   ]
  },
  {
   "cell_type": "markdown",
   "metadata": {
    "papermill": {
     "duration": 0.040866,
     "end_time": "2021-07-30T18:21:38.062906",
     "exception": false,
     "start_time": "2021-07-30T18:21:38.022040",
     "status": "completed"
    },
    "tags": []
   },
   "source": [
    "Aqui podemos perceber que clientes inadimplentes tendem a não adquirir mais de 3 produtos, enquanto clientes adimplentes possuem, em sua maioria, 3 ou mais produtos. Seria interessante que a instituição financeira incentivasse o cliente a obter outros produtos, diminuindo seus respectivos custos, com o intuito de engajar mais o cliente com seus serviços."
   ]
  },
  {
   "cell_type": "markdown",
   "metadata": {
    "papermill": {
     "duration": 0.040989,
     "end_time": "2021-07-30T18:21:38.144988",
     "exception": false,
     "start_time": "2021-07-30T18:21:38.103999",
     "status": "completed"
    },
    "tags": []
   },
   "source": [
    "# **5\\. Conclusões e insights**"
   ]
  },
  {
   "cell_type": "markdown",
   "metadata": {
    "papermill": {
     "duration": 0.040184,
     "end_time": "2021-07-30T18:21:38.225928",
     "exception": false,
     "start_time": "2021-07-30T18:21:38.185744",
     "status": "completed"
    },
    "tags": []
   },
   "source": [
    "Foi possível observar com esta análise que as quantidades mais significativas para a indicação de inadimplência são a **quantidade de transações do último ano**, o **valor das transações do último ano** e a **quantidade de produtos** possuídos pelo cliente. Sendo assim, é sugerido à instituição financeira os seguintes procedimentos:\n",
    "\n",
    "1. acompanhar mais de perto e oferecer juros e condições especiais de pagamentos à clientes concentrados em dois grupos: aquele para o qual o número de transações do último ano está abaixo de 60 e cuja soma do valor das transações se concentra em torno de 2.500,00 e aquele para o qual o número de transações do último ano está entre 60 e 80 e cuja soma do valor das transações se concentra entre 7.000,00 e 10.000,00. Para futuros clientes com o mesmo perfil, oferecer um limite de crédito menor;\n",
    "\n",
    "2. incentivar o cliente a obter diversos produtos, diminuindo seus respectivos custos, com o intuito de engajar mais o cliente com seus serviços;\n",
    "\n",
    "3. clientes com mais de 90 transações anuais de valor cumulativo superior à 12.550,00 não oferecem risco significativo de inadimplência."
   ]
  },
  {
   "cell_type": "code",
   "execution_count": null,
   "metadata": {
    "papermill": {
     "duration": 0.040181,
     "end_time": "2021-07-30T18:21:38.306676",
     "exception": false,
     "start_time": "2021-07-30T18:21:38.266495",
     "status": "completed"
    },
    "tags": []
   },
   "outputs": [],
   "source": []
  }
 ],
 "metadata": {
  "kernelspec": {
   "display_name": "Python 3",
   "language": "python",
   "name": "python3"
  },
  "language_info": {
   "codemirror_mode": {
    "name": "ipython",
    "version": 3
   },
   "file_extension": ".py",
   "mimetype": "text/x-python",
   "name": "python",
   "nbconvert_exporter": "python",
   "pygments_lexer": "ipython3",
   "version": "3.8.5"
  },
  "papermill": {
   "default_parameters": {},
   "duration": 19.87542,
   "end_time": "2021-07-30T18:21:39.844050",
   "environment_variables": {},
   "exception": null,
   "input_path": "__notebook__.ipynb",
   "output_path": "__notebook__.ipynb",
   "parameters": {},
   "start_time": "2021-07-30T18:21:19.968630",
   "version": "2.3.3"
  }
 },
 "nbformat": 4,
 "nbformat_minor": 5
}
